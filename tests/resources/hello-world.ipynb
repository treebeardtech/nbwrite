{
 "cells": [
  {
   "cell_type": "code",
   "execution_count": null,
   "id": "f3202044",
   "metadata": {},
   "outputs": [],
   "source": [
    "\n",
    "print('Hello, World!')\n"
   ]
  }
 ],
 "metadata": {},
 "nbformat": 4,
 "nbformat_minor": 5
}
