{
 "cells": [
  {
   "attachments": {},
   "cell_type": "markdown",
   "metadata": {},
   "source": [
    "# Using the nbmake API\n",
    "\n",
    "In this tutorial we will show you how to test a Python notebook from your own Python application (e.g. a test framework) using the nbmake API"
   ]
  },
  {
   "attachments": {},
   "cell_type": "markdown",
   "metadata": {},
   "source": [
    "First, we need an example notebook for testing"
   ]
  },
  {
   "cell_type": "code",
   "execution_count": null,
   "metadata": {
    "tags": [
     "nbwrite:create some 'hello-world.ipynb'",
     "set the kernel to 'python3'"
    ]
   },
   "outputs": [],
   "source": [
    "import nbformat as nbf\n",
    "\n",
    "nb = nbf.v4.new_notebook()\n",
    "code = \"\"\"\n",
    "print('Hello, World!')\n",
    "\"\"\"\n",
    "\n",
    "nb['cells'] = [nbf.v4.new_code_cell(code)]\n",
    "nbf.write(nb, 'hello-world.ipynb')"
   ]
  },
  {
   "attachments": {},
   "cell_type": "markdown",
   "metadata": {},
   "source": [
    "Now we can use the NotebookRun class to execute it and check that it printed what we were expecting"
   ]
  },
  {
   "cell_type": "code",
   "execution_count": null,
   "metadata": {},
   "outputs": [],
   "source": [
    "from nbmake.nb_run import NotebookRun\n",
    "\n",
    "notebook = NotebookRun('hello-world.ipynb', default_timeout=60, verbose=True)\n",
    "result = notebook.execute()\n",
    "\n",
    "assert result.error is None\n",
    "assert len(result.nb.cells) == 1\n",
    "assert result.nb.cells[0].cell_type == 'code'\n",
    "assert len(result.nb.cells[0].outputs) == 1\n",
    "assert result.nb.cells[0].outputs[0].output_type == 'stream'\n",
    "assert result.nb.cells[0].outputs[0].text == 'Hello, World!\\n'"
   ]
  }
 ],
 "metadata": {
  "kernelspec": {
   "display_name": ".venv",
   "language": "python",
   "name": "python3"
  },
  "language_info": {
   "codemirror_mode": {
    "name": "ipython",
    "version": 3
   },
   "file_extension": ".py",
   "mimetype": "text/x-python",
   "name": "python",
   "nbconvert_exporter": "python",
   "pygments_lexer": "ipython3",
   "version": "3.10.12"
  }
 },
 "nbformat": 4,
 "nbformat_minor": 2
}
