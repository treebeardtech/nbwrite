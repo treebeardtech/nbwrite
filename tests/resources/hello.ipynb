{
 "cells": [
  {
   "cell_type": "code",
   "execution_count": null,
   "id": "8ce4e5af",
   "metadata": {},
   "outputs": [],
   "source": [
    "\n",
    "print(\"Hello world!\")\n"
   ]
  }
 ],
 "metadata": {},
 "nbformat": 4,
 "nbformat_minor": 5
}
