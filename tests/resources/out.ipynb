{
 "cells": [
  {
   "cell_type": "markdown",
   "id": "0b7fb65f",
   "metadata": {},
   "source": [
    "# AI!"
   ]
  },
  {
   "cell_type": "code",
   "execution_count": null,
   "id": "41fa8aaa",
   "metadata": {},
   "outputs": [],
   "source": [
    "```python\n",
    "import nbformat\n",
    "from nbformat.v4 import new_notebook, new_code_cell\n",
    "from pathlib import Path\n",
    "from nbmake import NotebookRun\n",
    "\n",
    "# Step 1: Create a hello world notebook using nbformat\n",
    "nb = new_notebook()\n",
    "code = \"print('Hello, World!')\"\n",
    "nb.cells.append(new_code_cell(code))\n",
    "nbformat.write(nb, 'x.ipynb')\n",
    "\n",
    "# Step 2: Use nbmake's NotebookRun class to execute it from a Python application\n",
    "notebook_run = NotebookRun(filename=Path('x.ipynb'), default_timeout=60)\n",
    "result = notebook_run.execute()\n",
    "\n",
    "# Step 3: Check the output notebook printed what we were expecting\n",
    "assert result.nb['cells'][0]['outputs'][0]['text'] == 'Hello, World!\\n'\n",
    "```"
   ]
  }
 ],
 "metadata": {},
 "nbformat": 4,
 "nbformat_minor": 5
}
