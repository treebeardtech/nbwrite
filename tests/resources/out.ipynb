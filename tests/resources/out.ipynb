{
 "cells": [
  {
   "cell_type": "markdown",
   "id": "7fe5e3d5",
   "metadata": {},
   "source": [
    "# AI!\n",
    "\n",
    "\n",
    "\n",
    "This snippet of code uses nbmake's NotebookRun class to test `res/x.ipynb` from a Python application. It starts by setting the `path` to the notebook, and the `timeout` for the notebook execution. Then a `NotebookRun` instance is created using the `filename` and `default_timeout` arguments. The notebook is then executed, and the result is checked for errors. If an error is found, it is printed out, otherwise a success message is printed."
   ]
  },
  {
   "cell_type": "code",
   "execution_count": null,
   "id": "602a0161",
   "metadata": {},
   "outputs": [],
   "source": [
    "\n",
    "# Example Usage\n",
    "if __name__ == \"__main__\":\n",
    "    # Path of the notebook to run\n",
    "    path = Path(\"res/x.ipynb\")\n",
    "\n",
    "    # Timeout for the notebook execution\n",
    "    timeout = 10\n",
    "\n",
    "    # Create a NotebookRun instance\n",
    "    run = NotebookRun(filename=path, default_timeout=timeout)\n",
    "\n",
    "    # Execute the notebook\n",
    "    res = run.execute()\n",
    "\n",
    "    # Check for errors\n",
    "    if res.error is not None:\n",
    "        print(f\"Error: {res.error.summary}\")\n",
    "        print(f\"Traceback:\\n{res.error.trace}\")\n",
    "    else:\n",
    "        print(\"Notebook execution successful\")"
   ]
  }
 ],
 "metadata": {},
 "nbformat": 4,
 "nbformat_minor": 5
}
