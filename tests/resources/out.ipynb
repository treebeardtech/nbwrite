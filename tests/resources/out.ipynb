{
 "cells": [
  {
   "cell_type": "markdown",
   "id": "e7941dad",
   "metadata": {},
   "source": [
    "# AI!"
   ]
  },
  {
   "cell_type": "code",
   "execution_count": null,
   "id": "5fb03fe2",
   "metadata": {},
   "outputs": [],
   "source": [
    "\n",
    "# Code\n",
    "\n",
    "from pathlib import Path\n",
    "from typing import Any, Dict, List, Optional\n",
    "\n",
    "import nbformat\n",
    "from nbclient.client import (\n",
    "    CellExecutionError,\n",
    "    CellTimeoutError,\n",
    "    NotebookClient,\n",
    ")\n",
    "from nbformat import NotebookNode\n",
    "\n",
    "from nb_run import NotebookRun\n",
    "\n",
    "NB_VERSION = 4\n",
    "\n",
    "res_x = Path(\"res/x.ipynb\")\n",
    "\n",
    "# Create the notebook\n",
    "nb = nbformat.v4.new_notebook()\n",
    "\n",
    "# Create the cell\n",
    "cell = nbformat.v4.new_code_cell(source=\"print('Hello World!')\")\n",
    "\n",
    "# Add the cell to the notebook\n",
    "nb['cells'] = [cell]\n",
    "\n",
    "# Write the notebook to file\n",
    "nbformat.write(nb, res_x)\n",
    "\n",
    "# Run the notebook\n",
    "run = NotebookRun(filename=res_x, default_timeout=60)\n",
    "result = run.execute()\n",
    "\n",
    "# Check the result\n",
    "if result.error:\n",
    "    print(result.error.summary)\n",
    "    print(result.error.trace)\n"
   ]
  }
 ],
 "metadata": {},
 "nbformat": 4,
 "nbformat_minor": 5
}
