{
 "cells": [
  {
   "cell_type": "markdown",
   "id": "d6104f2b",
   "metadata": {},
   "source": [
    "# AI!"
   ]
  },
  {
   "cell_type": "code",
   "execution_count": null,
   "id": "66839a1a",
   "metadata": {},
   "outputs": [],
   "source": [
    "from nbformat.v4 import new_notebook, new_code_cell\n",
    "import nbformat as nbf\n",
    "\n",
    "# Create a new notebook\n",
    "nb = new_notebook()\n",
    "\n",
    "# Add a code cell\n",
    "code = 'print(\"Hello, World!\")'\n",
    "nb.cells.append(new_code_cell(source=code))\n",
    "\n",
    "# Write the notebook to a file\n",
    "with open('x.ipynb', 'w') as f:\n",
    "    nbf.write(nb, f)\n",
    "\n",
    "from pathlib import Path\n",
    "from nbmake import NotebookRun\n",
    "\n",
    "# Test the notebook\n",
    "nb_path = Path('x.ipynb')\n",
    "nb_run = NotebookRun(nb_path, default_timeout=60)\n",
    "result = nb_run.execute()\n",
    "\n",
    "# Check if there were any errors\n",
    "if result.error is not None:\n",
    "    print(f\"Error in notebook: {result.error.summary}\")\n",
    "else:\n",
    "    print(\"Notebook executed successfully.\")"
   ]
  }
 ],
 "metadata": {
  "language_info": {
   "name": "python"
  }
 },
 "nbformat": 4,
 "nbformat_minor": 5
}
