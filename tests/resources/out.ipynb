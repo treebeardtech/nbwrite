{
 "cells": [
  {
   "cell_type": "markdown",
   "id": "f9240da7",
   "metadata": {},
   "source": [
    "Yes, \"educa\" is a real word in Spanish. It is the third person singular present indicative form of \"educar\", which means \"to educate\" in English."
   ]
  }
 ],
 "metadata": {},
 "nbformat": 4,
 "nbformat_minor": 5
}
