{
 "cells": [
  {
   "cell_type": "markdown",
   "id": "3636daca",
   "metadata": {},
   "source": [
    " To create a hello world notebook using nbformat, you can use the following code:\n"
   ]
  },
  {
   "cell_type": "code",
   "execution_count": null,
   "id": "ae916ed3",
   "metadata": {},
   "outputs": [],
   "source": [
    "\n",
    "import nbformat\n",
    "\n",
    "# Create a new notebook\n",
    "nb = nbformat.v4.new_notebook()\n",
    "\n",
    "# Add a code cell to the notebook\n",
    "code_cell = nbformat.v4.new_code_cell(\"print('Hello, world!')\")\n",
    "nb.cells.append(code_cell)\n",
    "\n",
    "# Save the notebook to a file\n",
    "with open(\"hello_world.ipynb\", \"w\") as f:\n",
    "    nbformat.write(nb, f)\n"
   ]
  },
  {
   "cell_type": "markdown",
   "id": "077012ee",
   "metadata": {},
   "source": [
    "\n",
    "To use nbmake's NotebookRun class to execute the notebook from a Python application, you can use the following code:\n"
   ]
  },
  {
   "cell_type": "code",
   "execution_count": null,
   "id": "f1aadf14",
   "metadata": {},
   "outputs": [],
   "source": [
    "\n",
    "from nbmake import NotebookRun\n",
    "\n",
    "# Create a NotebookRun object\n",
    "notebook_run = NotebookRun(\"hello_world.ipynb\")\n",
    "\n",
    "# Execute the notebook\n",
    "notebook_run.execute()\n",
    "\n",
    "# Check the output notebook\n",
    "output_notebook = notebook_run.notebook\n",
    "assert output_notebook.cells[0].outputs[0].text == \"Hello, world!\"\n"
   ]
  },
  {
   "cell_type": "markdown",
   "id": "63d00a25",
   "metadata": {},
   "source": [
    "\n",
    "Note that the `NotebookRun` class takes a `filename` argument, which is the path to the notebook file to be executed. The `execute` method of the `NotebookRun` object executes the notebook and returns a `NotebookResult` object, which contains information about the execution of the notebook. The `notebook` attribute of the `NotebookResult` object contains the executed notebook.\n",
    "\n",
    "In the above code, we create a `NotebookRun` object with the path to the notebook file, and then execute the notebook using the `execute` method. We then check the output notebook by accessing the `notebook` attribute of the `NotebookResult` object and checking the output of the first cell.\n",
    "\n",
    "Note that the `NotebookRun` class also takes a `timeout` argument, which specifies the maximum amount of time to wait for the notebook to execute. If the notebook execution takes longer than the specified timeout, the `NotebookRun` object will raise a `TimeoutError`."
   ]
  }
 ],
 "metadata": {},
 "nbformat": 4,
 "nbformat_minor": 5
}
