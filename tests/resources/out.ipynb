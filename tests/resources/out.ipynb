{
 "cells": [
  {
   "cell_type": "markdown",
   "id": "afe4057d",
   "metadata": {},
   "source": [
    "# AI!"
   ]
  },
  {
   "cell_type": "code",
   "execution_count": null,
   "id": "e027c06c",
   "metadata": {},
   "outputs": [],
   "source": [
    "from nbmake.nb_run import NotebookRun\n",
    "from pathlib import Path\n",
    "import nbformat as nbf\n",
    "\n",
    "# Create a new notebook\n",
    "nb = nbf.v4.new_notebook()\n",
    "\n",
    "# Add a code cell with 'Hello World'\n",
    "code_cell = nbf.v4.new_code_cell(\"print('Hello, World!')\")\n",
    "nb['cells'].append(code_cell)\n",
    "\n",
    "# Write the notebook to a file\n",
    "with open('res/x.ipynb', 'w') as f:\n",
    "    nbf.write(nb, f)\n",
    "\n",
    "# Use NotebookRun to test the notebook\n",
    "notebook = NotebookRun(Path('res/x.ipynb'), default_timeout=60)\n",
    "result = notebook.execute()\n",
    "\n",
    "# Print the result\n",
    "print(result)"
   ]
  }
 ],
 "metadata": {
  "kernelspec": {
   "display_name": ".venv",
   "language": "python",
   "name": "python3"
  },
  "language_info": {
   "codemirror_mode": {
    "name": "ipython",
    "version": 3
   },
   "file_extension": ".py",
   "mimetype": "text/x-python",
   "name": "python",
   "nbconvert_exporter": "python",
   "pygments_lexer": "ipython3",
   "version": "3.10.12"
  }
 },
 "nbformat": 4,
 "nbformat_minor": 5
}
