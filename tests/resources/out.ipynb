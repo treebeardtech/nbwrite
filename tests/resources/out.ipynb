{
 "cells": [
  {
   "cell_type": "markdown",
   "id": "3ce0d6b8",
   "metadata": {},
   "source": [
    "# AI!"
   ]
  },
  {
   "cell_type": "code",
   "execution_count": null,
   "id": "4398e4d6",
   "metadata": {},
   "outputs": [],
   "source": [
    " Here is an example of how you can use the `NotebookRun` class to execute a Jupyter notebook from a Python application:\n",
    "```\n",
    "import nbformat\n",
    "from nbmake import NotebookRun\n",
    "\n",
    "# Create a new NotebookRun instance\n",
    "notebook_run = NotebookRun(\n",
    "    filename=\"hello_world.ipynb\",\n",
    "    default_timeout=10,\n",
    "    verbose=True,\n",
    "    kernel=\"python3\",\n",
    "    find_import_errors=True,\n",
    ")\n",
    "\n",
    "# Execute the notebook\n",
    "notebook_run.execute()\n",
    "\n",
    "# Check the output notebook\n",
    "assert notebook_run.notebook.cells[0].outputs[0].text == \"Hello, world!\"\n",
    "```\n",
    "This code creates a new `NotebookRun` instance with the filename of the notebook to be executed, the default timeout for the notebook, and the kernel to be used. It then executes the notebook using the `execute` method and checks the output notebook to make sure it contains the expected output.\n",
    "\n",
    "You can also use the `NotebookRun` class to execute a notebook from a Python application and get the output notebook as a string:\n",
    "```\n",
    "import nbformat\n",
    "from nbmake import NotebookRun\n",
    "\n",
    "# Create a new NotebookRun instance\n",
    "notebook_run = NotebookRun(\n",
    "    filename=\"hello_world.ipynb\",\n",
    "    default_timeout=10,\n",
    "    verbose=True,\n",
    "    kernel=\"python3\",\n",
    "    find_import_errors=True,\n",
    ")\n",
    "\n",
    "# Execute the notebook and get the output notebook as a string\n",
    "output_notebook = notebook_run.execute().notebook.cells[0].outputs[0].text\n",
    "\n",
    "# Check the output notebook\n",
    "assert output_notebook == \"Hello, world!\"\n",
    "```\n",
    "This code is similar to the previous example, but it uses the `execute` method to get the output notebook as a string instead of checking the output notebook directly."
   ]
  }
 ],
 "metadata": {
  "kernelspec": {
   "display_name": ".venv",
   "language": "python",
   "name": "python3"
  },
  "language_info": {
   "name": "python",
   "version": "3.10.12"
  }
 },
 "nbformat": 4,
 "nbformat_minor": 5
}
