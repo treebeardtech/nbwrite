{
 "cells": [
  {
   "cell_type": "markdown",
   "id": "8bcc5c6a",
   "metadata": {},
   "source": [
    "# AI!\n",
    "\n",
    "\n",
    "\n",
    "This code snippet uses a `for` loop to iterate over the elements of the given list in reverse order and append them to a new list `rev_list`. Finally, `rev_list` is returned after all elements have been added. The output of the code is `[5,4,3,2,1]`, which is the reverse of the given list `[1,2,3,4,5]`."
   ]
  },
  {
   "cell_type": "code",
   "execution_count": null,
   "id": "698b291f",
   "metadata": {},
   "outputs": [],
   "source": [
    "\n",
    "\n",
    "def reverse_list(list): \n",
    "    rev_list = [] \n",
    "    for i in range(len(list)-1,-1,-1): \n",
    "        rev_list.append(list[i]) \n",
    "    return rev_list \n",
    "  \n",
    "# Driver Code \n",
    "list = [1,2,3,4,5] \n",
    "rev_list = reverse_list(list) \n",
    "print(rev_list)"
   ]
  }
 ],
 "metadata": {},
 "nbformat": 4,
 "nbformat_minor": 5
}
