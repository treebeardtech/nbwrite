{
 "cells": [
  {
   "attachments": {},
   "cell_type": "markdown",
   "id": "e7941dad",
   "metadata": {},
   "source": [
    "# AI!"
   ]
  },
  {
   "cell_type": "code",
   "execution_count": null,
   "id": "52db1520",
   "metadata": {
    "tags": {
     "prompt": "this should use nbformat"
    }
   },
   "outputs": [],
   "source": [
    "import json\n",
    "from pathlib import Path\n",
    "\n",
    "from nbformat import reads\n",
    "\n",
    "# Existing code to run notebook\n",
    "nr = NotebookRun(Path(\"hello.ipynb\"), default_timeout=60) \n",
    "result = nr.execute()\n",
    "\n",
    "# Read notebook back in\n",
    "with open(\"hello.ipynb\") as f:\n",
    "    nb = reads(f.read(), as_version=4)\n",
    "\n",
    "# Pretty print JSON  \n",
    "print(json.dumps(nb, indent=2))"
   ]
  },
  {
   "cell_type": "code",
   "execution_count": null,
   "id": "f7539333",
   "metadata": {
    "tags": [
     "nbwrite:use 'import json'"
    ]
   },
   "outputs": [],
   "source": [
    "asdff"
   ]
  }
 ],
 "metadata": {
  "kernelspec": {
   "display_name": ".venv",
   "language": "python",
   "name": "python3"
  },
  "language_info": {
   "codemirror_mode": {
    "name": "ipython",
    "version": 3
   },
   "file_extension": ".py",
   "mimetype": "text/x-python",
   "name": "python",
   "nbconvert_exporter": "python",
   "pygments_lexer": "ipython3",
   "version": "3.10.12"
  }
 },
 "nbformat": 4,
 "nbformat_minor": 5
}
