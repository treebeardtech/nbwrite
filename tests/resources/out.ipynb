{
 "cells": [
  {
   "cell_type": "markdown",
   "id": "d39a884a",
   "metadata": {},
   "source": [
    " To create a hello world notebook using nbformat, you can use the following code:\n"
   ]
  },
  {
   "cell_type": "code",
   "execution_count": null,
   "id": "7053f14c",
   "metadata": {},
   "outputs": [],
   "source": [
    "\n",
    "import nbformat\n",
    "\n",
    "# Create a new notebook\n",
    "nb = nbformat.v4.new_notebook()\n",
    "\n",
    "# Add a code cell to the notebook\n",
    "code_cell = nbformat.v4.new_code_cell(\"print('Hello, world!')\")\n",
    "nb.cells.append(code_cell)\n",
    "\n",
    "# Save the notebook to a file\n",
    "with open(\"hello_world.ipynb\", \"w\") as f:\n",
    "    nbformat.write(nb, f)\n"
   ]
  },
  {
   "cell_type": "markdown",
   "id": "df1e2151",
   "metadata": {},
   "source": [
    "\n",
    "To use nbmake's NotebookRun class to execute the notebook from a Python application, you can use the following code:\n"
   ]
  },
  {
   "cell_type": "code",
   "execution_count": null,
   "id": "f56d25d0",
   "metadata": {},
   "outputs": [],
   "source": [
    "\n",
    "from nbmake import NotebookRun\n",
    "\n",
    "# Create a NotebookRun object\n",
    "notebook_run = NotebookRun(\"hello_world.ipynb\")\n",
    "\n",
    "# Execute the notebook\n",
    "notebook_run.execute()\n",
    "\n",
    "# Check the output notebook\n",
    "output_notebook = notebook_run.notebook\n",
    "assert output_notebook.cells[0].outputs[0].text == \"Hello, world!\"\n"
   ]
  },
  {
   "cell_type": "markdown",
   "id": "5dd0c37c",
   "metadata": {},
   "source": [
    "\n",
    "Note that the `NotebookRun` class takes a `filename` argument, which is the path to the notebook file to be executed. The `execute` method of the `NotebookRun` object executes the notebook and returns a `NotebookResult` object, which contains the output of the notebook. The `NotebookResult` object has a `notebook` attribute, which is the executed notebook. You can use this attribute to check the output of the notebook."
   ]
  }
 ],
 "metadata": {
  "kernelspec": {
   "display_name": ".venv",
   "language": "python",
   "name": "python3"
  },
  "language_info": {
   "name": "python",
   "version": "3.10.12"
  }
 },
 "nbformat": 4,
 "nbformat_minor": 5
}
