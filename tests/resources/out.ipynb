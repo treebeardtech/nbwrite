{
 "cells": [
  {
   "cell_type": "markdown",
   "id": "b646bc86",
   "metadata": {},
   "source": [
    "# AI!"
   ]
  },
  {
   "cell_type": "code",
   "execution_count": null,
   "id": "30452f6f",
   "metadata": {},
   "outputs": [],
   "source": [
    "\n",
    "# Executable Python example\n",
    "\n",
    "from pathlib import Path\n",
    "import nbformat\n",
    "from nbclient.client import NotebookClient\n",
    "from nbmake.run import NotebookRun\n",
    "\n",
    "res_x = Path('res/x.ipynb')\n",
    "\n",
    "run = NotebookRun(res_x, verbose=True)\n",
    "result = run.execute()\n",
    "\n",
    "if result.error is not None: \n",
    "    print(\"Error:\", result.error.summary)\n",
    "else: \n",
    "    print(\"Success!\")\n",
    "    nb = nbformat.read(str(res_x), nbformat.NO_CONVERT)\n",
    "    nbclient = NotebookClient(nb)\n",
    "    nbclient.execute()"
   ]
  }
 ],
 "metadata": {
  "kernelspec": {
   "display_name": ".venv",
   "language": "python",
   "name": "python3"
  },
  "language_info": {
   "name": "python",
   "version": "3.10.12"
  }
 },
 "nbformat": 4,
 "nbformat_minor": 5
}
