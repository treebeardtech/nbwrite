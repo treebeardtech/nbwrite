{
 "cells": [
  {
   "cell_type": "code",
   "execution_count": null,
   "id": "d70bd1e0",
   "metadata": {},
   "outputs": [],
   "source": [
    "print('Hello, World!')"
   ]
  }
 ],
 "metadata": {},
 "nbformat": 4,
 "nbformat_minor": 5
}
