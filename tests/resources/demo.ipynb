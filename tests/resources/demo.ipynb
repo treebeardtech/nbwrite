{
 "cells": [
  {
   "cell_type": "markdown",
   "metadata": {},
   "source": [
    "# Using the NotebookRun class to run a notebook from a conventional pytest function"
   ]
  }
 ],
 "metadata": {
  "language_info": {
   "name": "python"
  }
 },
 "nbformat": 4,
 "nbformat_minor": 2
}
