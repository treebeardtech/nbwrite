{
 "cells": [
  {
   "cell_type": "code",
   "execution_count": null,
   "id": "c87d174c",
   "metadata": {},
   "outputs": [],
   "source": [
    "import phoenix as px\n",
    "\n",
    "# To view traces in Phoenix, you will first have to start a Phoenix server. You can do this by running the following:\n",
    "session = px.launch_app()\n"
   ]
  },
  {
   "cell_type": "code",
   "execution_count": null,
   "id": "fc925a34",
   "metadata": {},
   "outputs": [],
   "source": [
    "px.active_session().view()"
   ]
  },
  {
   "cell_type": "code",
   "execution_count": null,
   "id": "7387f8af",
   "metadata": {},
   "outputs": [],
   "source": []
  }
 ],
 "metadata": {
  "kernelspec": {
   "display_name": ".venv",
   "language": "python",
   "name": "python3"
  },
  "language_info": {
   "codemirror_mode": {
    "name": "ipython",
    "version": 3
   },
   "file_extension": ".py",
   "mimetype": "text/x-python",
   "name": "python",
   "nbconvert_exporter": "python",
   "pygments_lexer": "ipython3",
   "version": "3.10.12"
  }
 },
 "nbformat": 4,
 "nbformat_minor": 5
}
